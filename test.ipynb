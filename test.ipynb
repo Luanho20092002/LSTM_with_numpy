{
 "cells": [
  {
   "cell_type": "code",
   "execution_count": 1,
   "metadata": {},
   "outputs": [
    {
     "data": {
      "text/html": [
       "<div>\n",
       "<style scoped>\n",
       "    .dataframe tbody tr th:only-of-type {\n",
       "        vertical-align: middle;\n",
       "    }\n",
       "\n",
       "    .dataframe tbody tr th {\n",
       "        vertical-align: top;\n",
       "    }\n",
       "\n",
       "    .dataframe thead th {\n",
       "        text-align: right;\n",
       "    }\n",
       "</style>\n",
       "<table border=\"1\" class=\"dataframe\">\n",
       "  <thead>\n",
       "    <tr style=\"text-align: right;\">\n",
       "      <th></th>\n",
       "      <th>kilowatt-hours</th>\n",
       "      <th>TempMin</th>\n",
       "      <th>TempMax</th>\n",
       "      <th>Weather</th>\n",
       "    </tr>\n",
       "  </thead>\n",
       "  <tbody>\n",
       "    <tr>\n",
       "      <th>0</th>\n",
       "      <td>2.165</td>\n",
       "      <td>18</td>\n",
       "      <td>23</td>\n",
       "      <td>Patchy rain possible</td>\n",
       "    </tr>\n",
       "    <tr>\n",
       "      <th>1</th>\n",
       "      <td>6.470</td>\n",
       "      <td>20</td>\n",
       "      <td>25</td>\n",
       "      <td>Patchy rain possible</td>\n",
       "    </tr>\n",
       "    <tr>\n",
       "      <th>2</th>\n",
       "      <td>9.157</td>\n",
       "      <td>21</td>\n",
       "      <td>24</td>\n",
       "      <td>Patchy rain possible</td>\n",
       "    </tr>\n",
       "    <tr>\n",
       "      <th>3</th>\n",
       "      <td>16.269</td>\n",
       "      <td>21</td>\n",
       "      <td>25</td>\n",
       "      <td>Sunny</td>\n",
       "    </tr>\n",
       "    <tr>\n",
       "      <th>4</th>\n",
       "      <td>8.447</td>\n",
       "      <td>19</td>\n",
       "      <td>23</td>\n",
       "      <td>Moderate rain at times</td>\n",
       "    </tr>\n",
       "    <tr>\n",
       "      <th>...</th>\n",
       "      <td>...</td>\n",
       "      <td>...</td>\n",
       "      <td>...</td>\n",
       "      <td>...</td>\n",
       "    </tr>\n",
       "    <tr>\n",
       "      <th>1757</th>\n",
       "      <td>4.514</td>\n",
       "      <td>21</td>\n",
       "      <td>23</td>\n",
       "      <td>Light rain shower</td>\n",
       "    </tr>\n",
       "    <tr>\n",
       "      <th>1758</th>\n",
       "      <td>11.096</td>\n",
       "      <td>22</td>\n",
       "      <td>26</td>\n",
       "      <td>Patchy rain possible</td>\n",
       "    </tr>\n",
       "    <tr>\n",
       "      <th>1759</th>\n",
       "      <td>4.860</td>\n",
       "      <td>20</td>\n",
       "      <td>25</td>\n",
       "      <td>Light rain shower</td>\n",
       "    </tr>\n",
       "    <tr>\n",
       "      <th>1760</th>\n",
       "      <td>13.984</td>\n",
       "      <td>23</td>\n",
       "      <td>25</td>\n",
       "      <td>Light rain shower</td>\n",
       "    </tr>\n",
       "    <tr>\n",
       "      <th>1761</th>\n",
       "      <td>13.978</td>\n",
       "      <td>22</td>\n",
       "      <td>26</td>\n",
       "      <td>Patchy rain possible</td>\n",
       "    </tr>\n",
       "  </tbody>\n",
       "</table>\n",
       "<p>1762 rows × 4 columns</p>\n",
       "</div>"
      ],
      "text/plain": [
       "      kilowatt-hours  TempMin  TempMax                 Weather\n",
       "0              2.165       18       23    Patchy rain possible\n",
       "1              6.470       20       25    Patchy rain possible\n",
       "2              9.157       21       24    Patchy rain possible\n",
       "3             16.269       21       25                   Sunny\n",
       "4              8.447       19       23  Moderate rain at times\n",
       "...              ...      ...      ...                     ...\n",
       "1757           4.514       21       23       Light rain shower\n",
       "1758          11.096       22       26    Patchy rain possible\n",
       "1759           4.860       20       25       Light rain shower\n",
       "1760          13.984       23       25       Light rain shower\n",
       "1761          13.978       22       26    Patchy rain possible\n",
       "\n",
       "[1762 rows x 4 columns]"
      ]
     },
     "execution_count": 1,
     "metadata": {},
     "output_type": "execute_result"
    }
   ],
   "source": [
    "import pandas as pd\n",
    "import numpy as np\n",
    "\n",
    "df = pd.read_excel(\"dataset/Energy_Power_Weather.xlsx\", sheet_name=0)\n",
    "df = df.drop(labels=[\"Timestamp\", \"Date\"], axis=1)\n",
    "df"
   ]
  },
  {
   "cell_type": "code",
   "execution_count": 2,
   "metadata": {},
   "outputs": [
    {
     "name": "stdout",
     "output_type": "stream",
     "text": [
      "[10 11  5  6  7  0  1  4  2  3  9 12  8 13]\n"
     ]
    }
   ],
   "source": [
    "from sklearn.preprocessing import LabelEncoder\n",
    "\n",
    "le = LabelEncoder()\n",
    "df[\"Weather\"] = le.fit_transform(df[\"Weather\"])\n",
    "print(df[\"Weather\"].unique())"
   ]
  },
  {
   "cell_type": "markdown",
   "metadata": {},
   "source": [
    "# 2.Create data"
   ]
  },
  {
   "cell_type": "code",
   "execution_count": 3,
   "metadata": {},
   "outputs": [
    {
     "name": "stdout",
     "output_type": "stream",
     "text": [
      "(1061, 700, 4) (1061, 1)\n",
      "(848, 700, 4)\n"
     ]
    }
   ],
   "source": [
    "from sklearn.model_selection import train_test_split\n",
    "\n",
    "X = []\n",
    "y = []\n",
    "dataframe = df.values\n",
    "for i in range(len(dataframe) - 701):\n",
    "    X.append(dataframe[i:i+700])\n",
    "    y.append(dataframe[i+701][0])\n",
    "X = np.array(X)\n",
    "y = np.array(y).reshape(-1, 1)\n",
    "\n",
    "print(X.shape, y.shape)\n",
    "X_train, X_test, y_train, y_test = train_test_split(X, y, test_size=0.2, random_state=42)\n",
    "print(X_train.shape)"
   ]
  },
  {
   "cell_type": "markdown",
   "metadata": {},
   "source": [
    "# 3.Train model"
   ]
  },
  {
   "cell_type": "code",
   "execution_count": 4,
   "metadata": {},
   "outputs": [],
   "source": [
    "from module.Sequential import Sequential\n",
    "from module.layers.Dense import Dense"
   ]
  },
  {
   "cell_type": "code",
   "execution_count": 5,
   "metadata": {},
   "outputs": [
    {
     "name": "stdout",
     "output_type": "stream",
     "text": [
      "Epoch 0  [==========]  loss: 214.9866, metric: 5.0465\n",
      "Epoch 1  [==========]  loss: 175.5966, metric: 4.8943\n",
      "Epoch 2  [==========]  loss: 82.4405, metric: 4.3884\n"
     ]
    }
   ],
   "source": [
    "%reload_ext autoreload\n",
    "%autoreload 2\n",
    "\n",
    "\n",
    "from module.layers.LSTM import LSTM\n",
    "\n",
    "# X = np.random.randn(100, 10, 2)\n",
    "# y = np.random.randn(100, 1)\n",
    "\n",
    "md = Sequential()\n",
    "md.add(LSTM(64, active=\"tanh\"))\n",
    "md.add(Dense(128, active=\"relu\"))\n",
    "md.add(Dense(1, active=\"relu\"))\n",
    "md.compile(loss=\"mse\", metric=\"rmse\")\n",
    "md.fit(X_train, y_train, epochs=3)"
   ]
  }
 ],
 "metadata": {
  "kernelspec": {
   "display_name": "Python 3",
   "language": "python",
   "name": "python3"
  },
  "language_info": {
   "codemirror_mode": {
    "name": "ipython",
    "version": 3
   },
   "file_extension": ".py",
   "mimetype": "text/x-python",
   "name": "python",
   "nbconvert_exporter": "python",
   "pygments_lexer": "ipython3",
   "version": "3.11.3"
  }
 },
 "nbformat": 4,
 "nbformat_minor": 2
}
